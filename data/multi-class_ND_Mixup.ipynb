{
 "cells": [
  {
   "cell_type": "code",
   "execution_count": null,
   "metadata": {},
   "outputs": [],
   "source": [
    "# !tar -xvf ./noisy-train-set.tar -C ./OOD/"
   ]
  },
  {
   "cell_type": "code",
   "execution_count": 1,
   "metadata": {},
   "outputs": [],
   "source": [
    "import torch\n",
    "import torch.nn as nn\n",
    "import torch.optim as optim\n",
    "from torchvision import models\n",
    "from torchvision import transforms\n",
    "from torchvision.datasets.vision import VisionDataset\n",
    "\n",
    "from PIL import Image\n",
    "import os\n",
    "import os.path\n",
    "\n",
    "from typing import Callable, Optional\n",
    "import json\n",
    "\n",
    "import pandas as pd\n",
    "import numpy as np\n",
    "import random\n",
    "import matplotlib.pyplot as plt\n",
    "\n",
    "from tqdm.notebook import tqdm\n",
    "\n",
    "from sklearn.model_selection import train_test_split\n"
   ]
  },
  {
   "cell_type": "code",
   "execution_count": 2,
   "metadata": {},
   "outputs": [],
   "source": [
    "def set_seed(seed: int):\n",
    "    # Set the seed for reproducibility.\n",
    "    random.seed(seed)\n",
    "    np.random.seed(seed)\n",
    "    os.environ[\"PYTHONHASHSEED\"] = str(seed)\n",
    "    torch.manual_seed(seed)\n",
    "    torch.cuda.manual_seed(seed)  # type: ignore\n",
    "    torch.cuda.manual_seed_all(seed)\n",
    "    torch.backends.cudnn.deterministic = True  # type: ignore\n",
    "    torch.backends.cudnn.benchmark = False  # type: ignore\n",
    "\n",
    "    "
   ]
  },
  {
   "cell_type": "code",
   "execution_count": 3,
   "metadata": {},
   "outputs": [],
   "source": [
    "seed = 42\n",
    "set_seed(seed)"
   ]
  },
  {
   "cell_type": "code",
   "execution_count": 4,
   "metadata": {},
   "outputs": [
    {
     "data": {
      "text/html": [
       "<div>\n",
       "<style scoped>\n",
       "    .dataframe tbody tr th:only-of-type {\n",
       "        vertical-align: middle;\n",
       "    }\n",
       "\n",
       "    .dataframe tbody tr th {\n",
       "        vertical-align: top;\n",
       "    }\n",
       "\n",
       "    .dataframe thead th {\n",
       "        text-align: right;\n",
       "    }\n",
       "</style>\n",
       "<table border=\"1\" class=\"dataframe\">\n",
       "  <thead>\n",
       "    <tr style=\"text-align: right;\">\n",
       "      <th></th>\n",
       "      <th>small_loss_estimate_clean</th>\n",
       "      <th>confidence_estimate_clean</th>\n",
       "      <th>gmm_estimate_clean</th>\n",
       "      <th>Image Name</th>\n",
       "      <th>Label</th>\n",
       "    </tr>\n",
       "  </thead>\n",
       "  <tbody>\n",
       "    <tr>\n",
       "      <th>0</th>\n",
       "      <td>0</td>\n",
       "      <td>0</td>\n",
       "      <td>0</td>\n",
       "      <td>img_37cdf731-ae5b-4dcb-8c7b-d595e7324fb0.jpg</td>\n",
       "      <td>4</td>\n",
       "    </tr>\n",
       "    <tr>\n",
       "      <th>1</th>\n",
       "      <td>0</td>\n",
       "      <td>1</td>\n",
       "      <td>1</td>\n",
       "      <td>img_570bb232-e416-4ed6-908a-bc66412d1a1c.jpg</td>\n",
       "      <td>6</td>\n",
       "    </tr>\n",
       "    <tr>\n",
       "      <th>2</th>\n",
       "      <td>1</td>\n",
       "      <td>0</td>\n",
       "      <td>0</td>\n",
       "      <td>img_6ddd443c-3e96-4f29-a04a-245b091d7bd2.jpg</td>\n",
       "      <td>1</td>\n",
       "    </tr>\n",
       "    <tr>\n",
       "      <th>3</th>\n",
       "      <td>0</td>\n",
       "      <td>0</td>\n",
       "      <td>0</td>\n",
       "      <td>img_45389146-1ade-4678-a635-6b76f7a22ad7.jpg</td>\n",
       "      <td>0</td>\n",
       "    </tr>\n",
       "    <tr>\n",
       "      <th>4</th>\n",
       "      <td>0</td>\n",
       "      <td>1</td>\n",
       "      <td>0</td>\n",
       "      <td>img_52c783df-5462-4225-aa96-c7b7d111706c.jpg</td>\n",
       "      <td>4</td>\n",
       "    </tr>\n",
       "    <tr>\n",
       "      <th>...</th>\n",
       "      <td>...</td>\n",
       "      <td>...</td>\n",
       "      <td>...</td>\n",
       "      <td>...</td>\n",
       "      <td>...</td>\n",
       "    </tr>\n",
       "    <tr>\n",
       "      <th>30843</th>\n",
       "      <td>0</td>\n",
       "      <td>0</td>\n",
       "      <td>1</td>\n",
       "      <td>img_adff4be7-116e-46e6-9a0b-f30e766be024.jpg</td>\n",
       "      <td>5</td>\n",
       "    </tr>\n",
       "    <tr>\n",
       "      <th>30844</th>\n",
       "      <td>1</td>\n",
       "      <td>0</td>\n",
       "      <td>0</td>\n",
       "      <td>img_188eabbb-7c41-44b9-81d7-a4207a2580eb.jpg</td>\n",
       "      <td>9</td>\n",
       "    </tr>\n",
       "    <tr>\n",
       "      <th>30845</th>\n",
       "      <td>0</td>\n",
       "      <td>0</td>\n",
       "      <td>0</td>\n",
       "      <td>img_d7fa315d-1348-4cc9-93b4-d0afe4d61d57.jpg</td>\n",
       "      <td>0</td>\n",
       "    </tr>\n",
       "    <tr>\n",
       "      <th>30846</th>\n",
       "      <td>0</td>\n",
       "      <td>0</td>\n",
       "      <td>0</td>\n",
       "      <td>img_159a3826-e7c1-40c3-ae69-97d43b0f7188.jpg</td>\n",
       "      <td>8</td>\n",
       "    </tr>\n",
       "    <tr>\n",
       "      <th>30847</th>\n",
       "      <td>0</td>\n",
       "      <td>0</td>\n",
       "      <td>1</td>\n",
       "      <td>img_594d4c29-56b2-428d-8356-25d6b01b6fb8.jpg</td>\n",
       "      <td>7</td>\n",
       "    </tr>\n",
       "  </tbody>\n",
       "</table>\n",
       "<p>30848 rows × 5 columns</p>\n",
       "</div>"
      ],
      "text/plain": [
       "       small_loss_estimate_clean  confidence_estimate_clean  \\\n",
       "0                              0                          0   \n",
       "1                              0                          1   \n",
       "2                              1                          0   \n",
       "3                              0                          0   \n",
       "4                              0                          1   \n",
       "...                          ...                        ...   \n",
       "30843                          0                          0   \n",
       "30844                          1                          0   \n",
       "30845                          0                          0   \n",
       "30846                          0                          0   \n",
       "30847                          0                          0   \n",
       "\n",
       "       gmm_estimate_clean                                    Image Name  Label  \n",
       "0                       0  img_37cdf731-ae5b-4dcb-8c7b-d595e7324fb0.jpg      4  \n",
       "1                       1  img_570bb232-e416-4ed6-908a-bc66412d1a1c.jpg      6  \n",
       "2                       0  img_6ddd443c-3e96-4f29-a04a-245b091d7bd2.jpg      1  \n",
       "3                       0  img_45389146-1ade-4678-a635-6b76f7a22ad7.jpg      0  \n",
       "4                       0  img_52c783df-5462-4225-aa96-c7b7d111706c.jpg      4  \n",
       "...                   ...                                           ...    ...  \n",
       "30843                   1  img_adff4be7-116e-46e6-9a0b-f30e766be024.jpg      5  \n",
       "30844                   0  img_188eabbb-7c41-44b9-81d7-a4207a2580eb.jpg      9  \n",
       "30845                   0  img_d7fa315d-1348-4cc9-93b4-d0afe4d61d57.jpg      0  \n",
       "30846                   0  img_159a3826-e7c1-40c3-ae69-97d43b0f7188.jpg      8  \n",
       "30847                   1  img_594d4c29-56b2-428d-8356-25d6b01b6fb8.jpg      7  \n",
       "\n",
       "[30848 rows x 5 columns]"
      ]
     },
     "execution_count": 4,
     "metadata": {},
     "output_type": "execute_result"
    }
   ],
   "source": [
    "data_root_path = './OOD'\n",
    "\n",
    "clean_noise_df = pd.read_csv(f'{data_root_path}/image_names_with_index.csv')\n",
    "clean_noise_df"
   ]
  },
  {
   "cell_type": "code",
   "execution_count": 5,
   "metadata": {},
   "outputs": [],
   "source": [
    "# data_path = data_root_path + '/training-data'\n",
    "\n",
    "# idx = 1\n",
    "# xj_idx = 2\n",
    "\n",
    "# xi_image_path = os.path.join(data_path, 'imgs', clean_noise_df.loc[idx, 'Image Name'])\n",
    "# xj_image_path = os.path.join(data_path, 'imgs', clean_noise_df.loc[xj_idx, 'Image Name'])\n",
    "\n",
    "# # load image\n",
    "# xi_img = Image.open(xi_image_path).convert('RGB')\n",
    "# xj_img = Image.open(xj_image_path).convert('RGB')\n",
    "\n",
    "# # 두 이미지를 동일한 크기로 조정 (여기서는 xi_img의 크기로 맞춤)\n",
    "# xj_img = xj_img.resize(xi_img.size)\n",
    "\n",
    "# # 이미지 데이터를 numpy 배열로 변환\n",
    "# xi_array = np.array(xi_img)\n",
    "# xj_array = np.array(xj_img)\n",
    "\n",
    "# # 0.5 비율로 이미지 혼합\n",
    "# mixup_array = 0.5 * xi_array + 0.5 * xj_array\n",
    "# mixup_array = mixup_array.astype(np.uint8)  # 정수형으로 변환\n",
    "\n",
    "# # numpy 배열을 이미지로 변환\n",
    "# mixup_img = Image.fromarray(mixup_array)\n",
    "\n",
    "# plt.axis('off')\n",
    "# plt.imshow(mixup_img)\n",
    "# plt.show()\n",
    "\n",
    "# label_map_path = os.path.join(data_path, 'data-labels.json')\n",
    "# label_map = json.load(open(label_map_path))\n",
    "# xi_target = label_map[clean_noise_df.loc[idx, 'Image Name'].split('.')[0]]\n",
    "# xj_target = label_map[clean_noise_df.loc[xj_idx, 'Image Name'].split('.')[0]]\n",
    "# xk_target = 0.5 * torch.tensor(xi_target) + 0.5 * torch.tensor(xj_target)\n",
    "# xk_target"
   ]
  },
  {
   "cell_type": "code",
   "execution_count": 5,
   "metadata": {},
   "outputs": [
    {
     "name": "stdout",
     "output_type": "stream",
     "text": [
      "gmm\n",
      "clean: 10578\n",
      "noise and ood: 20270\n",
      "clean train: 9528\n",
      "clean valid: 1050\n"
     ]
    }
   ],
   "source": [
    "sampling_methods = ['gmm'] # 'small_loss', 'confidence', 'gmm'\n",
    "\n",
    "for sampling_method in sampling_methods:\n",
    "    column_name = sampling_method + '_estimate_clean'\n",
    "\n",
    "    train_df = clean_noise_df[clean_noise_df[column_name] == 1].reset_index(drop=True) # clean\n",
    "    test_df = clean_noise_df[clean_noise_df[column_name] == 0].reset_index(drop=True) # noise, ood\n",
    "\n",
    "    print(sampling_method)\n",
    "    print(f'clean: {len(train_df)}')\n",
    "    print(f'noise and ood: {len(test_df)}')\n",
    "\n",
    "    valid_df = pd.DataFrame(columns=train_df.columns)\n",
    "    sample_per_label = len(train_df) // 100\n",
    "\n",
    "    for label in sorted(train_df['Label'].unique()):\n",
    "        label_sampled_df = train_df[train_df['Label'] == label].sample(sample_per_label, random_state=42)\n",
    "        valid_df = pd.concat([valid_df, label_sampled_df], axis= 0)\n",
    "\n",
    "    train_df = train_df.drop(index=valid_df.index, axis=0)\n",
    "\n",
    "    train_df.reset_index(drop=True, inplace=True)\n",
    "    valid_df.reset_index(drop=True, inplace=True)\n",
    "    # train_df, valid_df = train_test_split(train_df, test_size=0.1, random_state=42, stratify=train_df['Label'])\n",
    "    # train_df, valid_df = train_df.reset_index(drop=True), valid_df.reset_index(drop=True)\n",
    "\n",
    "    print(f'clean train: {len(train_df)}')\n",
    "    print(f'clean valid: {len(valid_df)}')"
   ]
  },
  {
   "cell_type": "code",
   "execution_count": 6,
   "metadata": {},
   "outputs": [],
   "source": [
    "class NDMixupDataset(VisionDataset):\n",
    "\n",
    "    def __init__(\n",
    "            self,\n",
    "            data_path: str,\n",
    "            file_df: pd.DataFrame,\n",
    "            non_mix: bool = False,\n",
    "            transform: Optional[Callable] = None,\n",
    "    ) -> None:\n",
    "\n",
    "        # load data\n",
    "        self.data_path = data_path\n",
    "        # list of file names: File name must be this string format \"label-filename\"\n",
    "        self.file_df = file_df\n",
    "        label_map_path = os.path.join(data_path, 'data-labels.json')\n",
    "        self.label_map = json.load(open(label_map_path))\n",
    "\n",
    "        self.non_mix = non_mix \n",
    "        self.transform = transform\n",
    "        self.reset_indices()\n",
    "\n",
    "    def reset_indices(self):\n",
    "        self.remaining_indices = list(range(len(self.file_df)))\n",
    "        random.shuffle(self.remaining_indices)\n",
    "\n",
    "    def __getitem__(self, index: int):\n",
    "        if self.non_mix:\n",
    "            xj_index = index\n",
    "\n",
    "        else:\n",
    "            if len(self.remaining_indices) == 0:\n",
    "                self.reset_indices()\n",
    "\n",
    "            xj_index = self.remaining_indices.pop()\n",
    "            alpha = random.uniform(0, 1)\n",
    "        \n",
    "\n",
    "        xi_image_path = os.path.join(self.data_path, 'imgs', self.file_df.loc[index, 'Image Name'])\n",
    "        xj_image_path = os.path.join(self.data_path, 'imgs', self.file_df.loc[xj_index, 'Image Name'])\n",
    "        \n",
    "        # load image\n",
    "        xi_img = Image.open(xi_image_path).convert('RGB')\n",
    "        xj_img = Image.open(xj_image_path).convert('RGB')\n",
    "\n",
    "        # 두 이미지를 동일한 크기로 조정 (여기서는 xi_img의 크기로 맞춤)\n",
    "        xj_img = xj_img.resize(xi_img.size)\n",
    "\n",
    "        # 이미지 데이터를 numpy 배열로 변환\n",
    "        xi_array = np.array(xi_img)\n",
    "        xj_array = np.array(xj_img)\n",
    "\n",
    "        # parsing label\n",
    "        xi_target = self.label_map[self.file_df.loc[index, 'Image Name'].split('.')[0]]\n",
    "        xj_target = self.label_map[self.file_df.loc[xj_index, 'Image Name'].split('.')[0]]\n",
    "\n",
    "        if xi_target != xj_target: # 다른 라벨끼리 mixup\n",
    "            # 이미지 혼합\n",
    "            xk_array = alpha * xi_array + (1 - alpha) * xj_array\n",
    "            xk_array = xk_array.astype(np.uint8)  # 정수형으로 변환\n",
    "\n",
    "            # numpy 배열을 이미지로 변환\n",
    "            xk_img = Image.fromarray(xk_array)\n",
    "\n",
    "            mixing_coefficients = alpha * torch.tensor(xi_target) + (1 - alpha) * torch.tensor(xj_target) # xk_target\n",
    "            labels = torch.tensor(xi_target) + torch.tensor(xj_target)\n",
    "\n",
    "        else: \n",
    "             # 이미지 혼합\n",
    "            xk_array = 0.5 * xi_array + 0.5 * xj_array\n",
    "            xk_array = xk_array.astype(np.uint8)  # 정수형으로 변환\n",
    "\n",
    "            # numpy 배열을 이미지로 변환\n",
    "            xk_img = Image.fromarray(xk_array)\n",
    "\n",
    "            mixing_coefficients = 0.5 * torch.tensor(xi_target) + 0.5 * torch.tensor(xj_target) # xk_target\n",
    "            labels = mixing_coefficients\n",
    "\n",
    "        if self.transform is not None:\n",
    "            xi_img = self.transform(xi_img)\n",
    "            xj_img = self.transform(xj_img)\n",
    "            xk_img = self.transform(xk_img)\n",
    "\n",
    "        if self.non_mix:\n",
    "            return xi_img, labels, mixing_coefficients    \n",
    "        \n",
    "        return torch.cat([xi_img, xj_img, xk_img], dim=1), labels, mixing_coefficients\n",
    "\n",
    "    def __len__(self) -> int:\n",
    "        return len(self.file_df)\n",
    "\n",
    "# the function to transform image to tensors\n",
    "def make_transforms():\n",
    "\n",
    "    # we won't apply any data augmentation during the training pipeline, while you need to add augmented images into the datasets\n",
    "    return transforms.Compose([\n",
    "        transforms.Resize((64, 64)),\n",
    "        # ToTensor applies standardization automatically when converting to Tensors.\n",
    "        transforms.ToTensor(),\n",
    "    ])\n",
    "\n",
    "\n",
    "def build(data_path, file_df, non_mix):\n",
    "    return NDMixupDataset(data_path=data_path, file_df=file_df, non_mix=non_mix, transform=make_transforms())"
   ]
  },
  {
   "cell_type": "code",
   "execution_count": 7,
   "metadata": {},
   "outputs": [],
   "source": [
    "class VGG16Base(nn.Module):\n",
    "    def __init__(self, image_size = 64, pretrained=True, num_classes=10):\n",
    "        super(VGG16Base, self).__init__()\n",
    "        # Load the pre-trained VGG16 model\n",
    "        self.features = models.vgg16(pretrained=pretrained).features\n",
    "    \n",
    "        self.fc1 = nn.Linear(512 * ((image_size // 32) ** 2 * 3), 512)\n",
    "        self.fc2 = nn.Linear(512, 1536)\n",
    "        self.fc3 = nn.Linear(1536, 256)\n",
    "        self.fc4 = nn.Linear(256, num_classes)\n",
    "\n",
    "        # Activation and Dropout\n",
    "        self.relu = nn.ReLU()\n",
    "        self.sigmoid = nn.Sigmoid()\n",
    "        self.dropout = nn.Dropout(0.5)\n",
    "\n",
    "    def forward(self, x):\n",
    "        # Forward pass through the feature parts\n",
    "        # input (batch size, 3, image_size, image_size)\n",
    "\n",
    "        features = self.features(x) # output (batch size, 512, image_size // 32 * 3 , image_size // 32) -> AVgpooling x\n",
    "        features = torch.flatten(features, 1) #(batch size, 512 * ((image_size // 32) ** 2 * 3))\n",
    "        \n",
    "        # Get the features from the classifier part\n",
    "        x = self.relu(self.fc1(features))\n",
    "        x = self.dropout(x)\n",
    "        x = self.relu(self.fc2(x))\n",
    "        x = self.dropout(x)\n",
    "        x = self.relu(self.fc3(x))\n",
    "        x = self.sigmoid(self.fc4(x))\n",
    "\n",
    "        return features, x "
   ]
  },
  {
   "cell_type": "code",
   "execution_count": 8,
   "metadata": {},
   "outputs": [],
   "source": [
    "class ConstituencyLoss(nn.Module):\n",
    "    def __init__(self, g=1000):\n",
    "        super(ConstituencyLoss, self).__init__()\n",
    "        self.g = g  # Scaling factor for the loss of the mixing classes\n",
    "\n",
    "    def forward(self, predictions, labels, mixing_coefficients):\n",
    "        \"\"\"\n",
    "        predictions: output from the network (batch_size, num_classes)\n",
    "        labels: actual labels for the mixed classes (batch_size, num_classes), 0 or 1\n",
    "        mixing_coefficients: actual mixing proportions used during mixing (batch_size, num_classes)\n",
    "        \"\"\"\n",
    "        # We assume labels are binary (1 for classes involved in the mix, 0 otherwise)\n",
    "\n",
    "        # Mask for mixing classes (where labels are 1)\n",
    "        mix_mask = labels > 0\n",
    "        \n",
    "        # Loss for mixing classes: mean squared error on the mixing coefficients\n",
    "        loss_mix = (predictions[mix_mask] - mixing_coefficients[mix_mask]) ** 2\n",
    "        \n",
    "        # Loss for non-mixing classes: should be close to zero\n",
    "        non_mix_mask = labels == 0\n",
    "        loss_non_mix = predictions[non_mix_mask] ** 2\n",
    "        \n",
    "        # Calculate the total loss with different weights\n",
    "        loss = (self.g * loss_mix.sum()) + loss_non_mix.sum()\n",
    "        \n",
    "        return loss"
   ]
  },
  {
   "cell_type": "code",
   "execution_count": 9,
   "metadata": {},
   "outputs": [],
   "source": [
    "'''\n",
    "We use a fixed set of hyperparameter and configuration for fairness in comparison between teams\n",
    "'''\n",
    "_lr = 0.00001\n",
    "_num_classes = 10 \n",
    "_num_worders = 0\n",
    "_batch_size = 32\n",
    "_g = 2000\n",
    "\n",
    "'''\n",
    "This can be adjustable.\n",
    "'''\n",
    "_total_epochs = 100\n",
    "early_stop_round = 10"
   ]
  },
  {
   "cell_type": "code",
   "execution_count": 10,
   "metadata": {},
   "outputs": [
    {
     "name": "stderr",
     "output_type": "stream",
     "text": [
      "c:\\Users\\user\\anaconda3\\envs\\ds801\\lib\\site-packages\\torchvision\\models\\_utils.py:208: UserWarning: The parameter 'pretrained' is deprecated since 0.13 and may be removed in the future, please use 'weights' instead.\n",
      "  warnings.warn(\n",
      "c:\\Users\\user\\anaconda3\\envs\\ds801\\lib\\site-packages\\torchvision\\models\\_utils.py:223: UserWarning: Arguments other than a weight enum or `None` for 'weights' are deprecated since 0.13 and may be removed in the future. The current behavior is equivalent to passing `weights=VGG16_Weights.IMAGENET1K_V1`. You can also use `weights=VGG16_Weights.DEFAULT` to get the most up-to-date weights.\n",
      "  warnings.warn(msg)\n"
     ]
    }
   ],
   "source": [
    "device = torch.device('cuda' if torch.cuda.is_available() else 'cpu')\n",
    "model = VGG16Base(pretrained=True, num_classes=_num_classes).to(device)\n",
    "\n",
    "# Optimizer and Loss\n",
    "optimizer = optim.Adam(model.parameters(), lr=_lr)\n",
    "loss_fn = ConstituencyLoss(g=_g).to(device)  # Adjust g as necessary"
   ]
  },
  {
   "cell_type": "code",
   "execution_count": 11,
   "metadata": {},
   "outputs": [],
   "source": [
    "train_path = './OOD/training-data' # clean\n",
    "valid_path = './OOD/training-data' # clean\n",
    "test_path = './OOD/training-data' # noise & OOD\n",
    "\n",
    "model_path = './OOD/model'"
   ]
  },
  {
   "cell_type": "code",
   "execution_count": 12,
   "metadata": {},
   "outputs": [],
   "source": [
    "train_data = build(train_path, train_df, non_mix=False)\n",
    "train_loader = torch.utils.data.DataLoader(train_data,\n",
    "                                            batch_size=_batch_size,\n",
    "                                            shuffle=True,\n",
    "                                            drop_last=False,\n",
    "                                            num_workers=_num_worders)\n",
    "\n",
    "valid_loader = None\n",
    "if valid_path is not None:\n",
    "    valid_data = build(valid_path, valid_df, non_mix=False)\n",
    "    valid_loader = torch.utils.data.DataLoader(valid_data,\n",
    "                                        batch_size=_batch_size,\n",
    "                                        shuffle=False,\n",
    "                                        drop_last=False,\n",
    "                                        num_workers=_num_worders)"
   ]
  },
  {
   "cell_type": "code",
   "execution_count": 13,
   "metadata": {},
   "outputs": [
    {
     "data": {
      "application/vnd.jupyter.widget-view+json": {
       "model_id": "ca0a357a9ca14db7949352477d7105d0",
       "version_major": 2,
       "version_minor": 0
      },
      "text/plain": [
       "  0%|          | 0/100 [00:00<?, ?it/s]"
      ]
     },
     "metadata": {},
     "output_type": "display_data"
    },
    {
     "data": {
      "application/vnd.jupyter.widget-view+json": {
       "model_id": "cdca149697d8426e91c2365726d3648f",
       "version_major": 2,
       "version_minor": 0
      },
      "text/plain": [
       "  0%|          | 0/298 [00:00<?, ?it/s]"
      ]
     },
     "metadata": {},
     "output_type": "display_data"
    },
    {
     "data": {
      "application/vnd.jupyter.widget-view+json": {
       "model_id": "020093c8d44e4b3ead58ed955ba99160",
       "version_major": 2,
       "version_minor": 0
      },
      "text/plain": [
       "  0%|          | 0/33 [00:00<?, ?it/s]"
      ]
     },
     "metadata": {},
     "output_type": "display_data"
    },
    {
     "name": "stdout",
     "output_type": "stream",
     "text": [
      "Epoch 1, train Loss: 11416.133487573406, valid Loss: 11690.315755208334, early_stop_count: 0\n"
     ]
    },
    {
     "data": {
      "application/vnd.jupyter.widget-view+json": {
       "model_id": "a9764cd30ad546458b0da25d12ed7d49",
       "version_major": 2,
       "version_minor": 0
      },
      "text/plain": [
       "  0%|          | 0/298 [00:00<?, ?it/s]"
      ]
     },
     "metadata": {},
     "output_type": "display_data"
    },
    {
     "data": {
      "application/vnd.jupyter.widget-view+json": {
       "model_id": "3a05bf0af68c49c3bbbd5b5b6dca8073",
       "version_major": 2,
       "version_minor": 0
      },
      "text/plain": [
       "  0%|          | 0/33 [00:00<?, ?it/s]"
      ]
     },
     "metadata": {},
     "output_type": "display_data"
    },
    {
     "name": "stdout",
     "output_type": "stream",
     "text": [
      "Epoch 2, train Loss: 11008.953829566904, valid Loss: 10493.193152225378, early_stop_count: 0\n"
     ]
    },
    {
     "data": {
      "application/vnd.jupyter.widget-view+json": {
       "model_id": "94e323c22ab6412fbc6d9a38575cb7fb",
       "version_major": 2,
       "version_minor": 0
      },
      "text/plain": [
       "  0%|          | 0/298 [00:00<?, ?it/s]"
      ]
     },
     "metadata": {},
     "output_type": "display_data"
    },
    {
     "data": {
      "application/vnd.jupyter.widget-view+json": {
       "model_id": "5f4ab5cbef634397bb8d44d19ed79740",
       "version_major": 2,
       "version_minor": 0
      },
      "text/plain": [
       "  0%|          | 0/33 [00:00<?, ?it/s]"
      ]
     },
     "metadata": {},
     "output_type": "display_data"
    },
    {
     "name": "stdout",
     "output_type": "stream",
     "text": [
      "Epoch 3, train Loss: 10566.273765205537, valid Loss: 10156.47089547822, early_stop_count: 0\n"
     ]
    },
    {
     "data": {
      "application/vnd.jupyter.widget-view+json": {
       "model_id": "e367da71e0f9419fb5c98e538995eb91",
       "version_major": 2,
       "version_minor": 0
      },
      "text/plain": [
       "  0%|          | 0/298 [00:00<?, ?it/s]"
      ]
     },
     "metadata": {},
     "output_type": "display_data"
    },
    {
     "data": {
      "application/vnd.jupyter.widget-view+json": {
       "model_id": "224c324cb5c14de6a444c76a2228a530",
       "version_major": 2,
       "version_minor": 0
      },
      "text/plain": [
       "  0%|          | 0/33 [00:00<?, ?it/s]"
      ]
     },
     "metadata": {},
     "output_type": "display_data"
    },
    {
     "name": "stdout",
     "output_type": "stream",
     "text": [
      "Epoch 4, train Loss: 9891.29109427433, valid Loss: 9678.683712121212, early_stop_count: 0\n"
     ]
    },
    {
     "data": {
      "application/vnd.jupyter.widget-view+json": {
       "model_id": "0ab15a1a21d448fcab90aad729093cf0",
       "version_major": 2,
       "version_minor": 0
      },
      "text/plain": [
       "  0%|          | 0/298 [00:00<?, ?it/s]"
      ]
     },
     "metadata": {},
     "output_type": "display_data"
    },
    {
     "data": {
      "application/vnd.jupyter.widget-view+json": {
       "model_id": "62f37d4c1a55439493c2c291e88a8f5c",
       "version_major": 2,
       "version_minor": 0
      },
      "text/plain": [
       "  0%|          | 0/33 [00:00<?, ?it/s]"
      ]
     },
     "metadata": {},
     "output_type": "display_data"
    },
    {
     "name": "stdout",
     "output_type": "stream",
     "text": [
      "Epoch 5, train Loss: 9204.922913826553, valid Loss: 9169.95743075284, early_stop_count: 0\n"
     ]
    },
    {
     "data": {
      "application/vnd.jupyter.widget-view+json": {
       "model_id": "316af5f9221f4e4da5bcb1574aa05616",
       "version_major": 2,
       "version_minor": 0
      },
      "text/plain": [
       "  0%|          | 0/298 [00:00<?, ?it/s]"
      ]
     },
     "metadata": {},
     "output_type": "display_data"
    },
    {
     "data": {
      "application/vnd.jupyter.widget-view+json": {
       "model_id": "107e6f16119e42b49f1f21af323c6d28",
       "version_major": 2,
       "version_minor": 0
      },
      "text/plain": [
       "  0%|          | 0/33 [00:00<?, ?it/s]"
      ]
     },
     "metadata": {},
     "output_type": "display_data"
    },
    {
     "name": "stdout",
     "output_type": "stream",
     "text": [
      "Epoch 6, train Loss: 9064.188247168624, valid Loss: 8739.38134765625, early_stop_count: 0\n"
     ]
    },
    {
     "data": {
      "application/vnd.jupyter.widget-view+json": {
       "model_id": "f4938fe782cd4cf7905eaff00958ef87",
       "version_major": 2,
       "version_minor": 0
      },
      "text/plain": [
       "  0%|          | 0/298 [00:00<?, ?it/s]"
      ]
     },
     "metadata": {},
     "output_type": "display_data"
    },
    {
     "data": {
      "application/vnd.jupyter.widget-view+json": {
       "model_id": "1d8b4c357fa84f06bfc5aa1987f002eb",
       "version_major": 2,
       "version_minor": 0
      },
      "text/plain": [
       "  0%|          | 0/33 [00:00<?, ?it/s]"
      ]
     },
     "metadata": {},
     "output_type": "display_data"
    },
    {
     "name": "stdout",
     "output_type": "stream",
     "text": [
      "Epoch 7, train Loss: 8821.734329121226, valid Loss: 8726.018022017046, early_stop_count: 0\n"
     ]
    },
    {
     "data": {
      "application/vnd.jupyter.widget-view+json": {
       "model_id": "8eb3c4c7014d4b8eb3b8a713ff2fe979",
       "version_major": 2,
       "version_minor": 0
      },
      "text/plain": [
       "  0%|          | 0/298 [00:00<?, ?it/s]"
      ]
     },
     "metadata": {},
     "output_type": "display_data"
    },
    {
     "data": {
      "application/vnd.jupyter.widget-view+json": {
       "model_id": "2d28c4734ee54e12a30969f8bd18496b",
       "version_major": 2,
       "version_minor": 0
      },
      "text/plain": [
       "  0%|          | 0/33 [00:00<?, ?it/s]"
      ]
     },
     "metadata": {},
     "output_type": "display_data"
    },
    {
     "name": "stdout",
     "output_type": "stream",
     "text": [
      "Epoch 8, train Loss: 8570.404685206062, valid Loss: 9166.537656841856, early_stop_count: 1\n"
     ]
    },
    {
     "data": {
      "application/vnd.jupyter.widget-view+json": {
       "model_id": "3013be2586f34bc5a34373495e78de71",
       "version_major": 2,
       "version_minor": 0
      },
      "text/plain": [
       "  0%|          | 0/298 [00:00<?, ?it/s]"
      ]
     },
     "metadata": {},
     "output_type": "display_data"
    },
    {
     "data": {
      "application/vnd.jupyter.widget-view+json": {
       "model_id": "038223296d8446e48c6339008958b26b",
       "version_major": 2,
       "version_minor": 0
      },
      "text/plain": [
       "  0%|          | 0/33 [00:00<?, ?it/s]"
      ]
     },
     "metadata": {},
     "output_type": "display_data"
    },
    {
     "name": "stdout",
     "output_type": "stream",
     "text": [
      "Epoch 9, train Loss: 8346.598921193372, valid Loss: 8391.79580965909, early_stop_count: 0\n"
     ]
    },
    {
     "data": {
      "application/vnd.jupyter.widget-view+json": {
       "model_id": "0c4b2c08edd5493c834ec45883780af0",
       "version_major": 2,
       "version_minor": 0
      },
      "text/plain": [
       "  0%|          | 0/298 [00:00<?, ?it/s]"
      ]
     },
     "metadata": {},
     "output_type": "display_data"
    },
    {
     "data": {
      "application/vnd.jupyter.widget-view+json": {
       "model_id": "6c3327297e3f447fa678a331d40e01cf",
       "version_major": 2,
       "version_minor": 0
      },
      "text/plain": [
       "  0%|          | 0/33 [00:00<?, ?it/s]"
      ]
     },
     "metadata": {},
     "output_type": "display_data"
    },
    {
     "name": "stdout",
     "output_type": "stream",
     "text": [
      "Epoch 10, train Loss: 8133.051422733589, valid Loss: 8637.812381628788, early_stop_count: 1\n"
     ]
    },
    {
     "data": {
      "application/vnd.jupyter.widget-view+json": {
       "model_id": "d27a3291e11a435f85889a7105850f31",
       "version_major": 2,
       "version_minor": 0
      },
      "text/plain": [
       "  0%|          | 0/298 [00:00<?, ?it/s]"
      ]
     },
     "metadata": {},
     "output_type": "display_data"
    },
    {
     "data": {
      "application/vnd.jupyter.widget-view+json": {
       "model_id": "b7046d9de4274325b5e08732796703a6",
       "version_major": 2,
       "version_minor": 0
      },
      "text/plain": [
       "  0%|          | 0/33 [00:00<?, ?it/s]"
      ]
     },
     "metadata": {},
     "output_type": "display_data"
    },
    {
     "name": "stdout",
     "output_type": "stream",
     "text": [
      "Epoch 11, train Loss: 8039.8154296875, valid Loss: 8131.072058475379, early_stop_count: 0\n"
     ]
    },
    {
     "data": {
      "application/vnd.jupyter.widget-view+json": {
       "model_id": "7a75279b489e466a8e32f81afca63c70",
       "version_major": 2,
       "version_minor": 0
      },
      "text/plain": [
       "  0%|          | 0/298 [00:00<?, ?it/s]"
      ]
     },
     "metadata": {},
     "output_type": "display_data"
    },
    {
     "data": {
      "application/vnd.jupyter.widget-view+json": {
       "model_id": "7adabcd8fa5e461aa81cd93be43a9b60",
       "version_major": 2,
       "version_minor": 0
      },
      "text/plain": [
       "  0%|          | 0/33 [00:00<?, ?it/s]"
      ]
     },
     "metadata": {},
     "output_type": "display_data"
    },
    {
     "name": "stdout",
     "output_type": "stream",
     "text": [
      "Epoch 12, train Loss: 7944.2551400613465, valid Loss: 7815.571318655303, early_stop_count: 0\n"
     ]
    },
    {
     "data": {
      "application/vnd.jupyter.widget-view+json": {
       "model_id": "cb240538c8f949338335aedb75f986cb",
       "version_major": 2,
       "version_minor": 0
      },
      "text/plain": [
       "  0%|          | 0/298 [00:00<?, ?it/s]"
      ]
     },
     "metadata": {},
     "output_type": "display_data"
    },
    {
     "data": {
      "application/vnd.jupyter.widget-view+json": {
       "model_id": "7faa5ae4fd2a4b0c9f2b613ec4415753",
       "version_major": 2,
       "version_minor": 0
      },
      "text/plain": [
       "  0%|          | 0/33 [00:00<?, ?it/s]"
      ]
     },
     "metadata": {},
     "output_type": "display_data"
    },
    {
     "name": "stdout",
     "output_type": "stream",
     "text": [
      "Epoch 13, train Loss: 7826.401571184197, valid Loss: 7768.488074100379, early_stop_count: 0\n"
     ]
    },
    {
     "data": {
      "application/vnd.jupyter.widget-view+json": {
       "model_id": "7d1de2fe89b7411b8cf95ca0a256e2b7",
       "version_major": 2,
       "version_minor": 0
      },
      "text/plain": [
       "  0%|          | 0/298 [00:00<?, ?it/s]"
      ]
     },
     "metadata": {},
     "output_type": "display_data"
    },
    {
     "data": {
      "application/vnd.jupyter.widget-view+json": {
       "model_id": "f55ce4ce23004fd0bebb01b936850acd",
       "version_major": 2,
       "version_minor": 0
      },
      "text/plain": [
       "  0%|          | 0/33 [00:00<?, ?it/s]"
      ]
     },
     "metadata": {},
     "output_type": "display_data"
    },
    {
     "name": "stdout",
     "output_type": "stream",
     "text": [
      "Epoch 14, train Loss: 7552.525778136797, valid Loss: 8035.667939157197, early_stop_count: 1\n"
     ]
    },
    {
     "data": {
      "application/vnd.jupyter.widget-view+json": {
       "model_id": "017dab035865470094aa60c289f2c590",
       "version_major": 2,
       "version_minor": 0
      },
      "text/plain": [
       "  0%|          | 0/298 [00:00<?, ?it/s]"
      ]
     },
     "metadata": {},
     "output_type": "display_data"
    },
    {
     "data": {
      "application/vnd.jupyter.widget-view+json": {
       "model_id": "7abeba579eda4631b661efe53cd3d322",
       "version_major": 2,
       "version_minor": 0
      },
      "text/plain": [
       "  0%|          | 0/33 [00:00<?, ?it/s]"
      ]
     },
     "metadata": {},
     "output_type": "display_data"
    },
    {
     "name": "stdout",
     "output_type": "stream",
     "text": [
      "Epoch 15, train Loss: 7626.602168755243, valid Loss: 7509.718616832386, early_stop_count: 0\n"
     ]
    },
    {
     "data": {
      "application/vnd.jupyter.widget-view+json": {
       "model_id": "8938bd6bd61841498486ec1bb6198256",
       "version_major": 2,
       "version_minor": 0
      },
      "text/plain": [
       "  0%|          | 0/298 [00:00<?, ?it/s]"
      ]
     },
     "metadata": {},
     "output_type": "display_data"
    },
    {
     "data": {
      "application/vnd.jupyter.widget-view+json": {
       "model_id": "59dd11e8e7c34b0fb0a2629e45f0e6da",
       "version_major": 2,
       "version_minor": 0
      },
      "text/plain": [
       "  0%|          | 0/33 [00:00<?, ?it/s]"
      ]
     },
     "metadata": {},
     "output_type": "display_data"
    },
    {
     "name": "stdout",
     "output_type": "stream",
     "text": [
      "Epoch 16, train Loss: 7292.861436267827, valid Loss: 7535.974431818182, early_stop_count: 1\n"
     ]
    },
    {
     "data": {
      "application/vnd.jupyter.widget-view+json": {
       "model_id": "03a1bf4b6f874622b3a9d021e63204a8",
       "version_major": 2,
       "version_minor": 0
      },
      "text/plain": [
       "  0%|          | 0/298 [00:00<?, ?it/s]"
      ]
     },
     "metadata": {},
     "output_type": "display_data"
    },
    {
     "data": {
      "application/vnd.jupyter.widget-view+json": {
       "model_id": "4f882ba354a74066850500ca2b253776",
       "version_major": 2,
       "version_minor": 0
      },
      "text/plain": [
       "  0%|          | 0/33 [00:00<?, ?it/s]"
      ]
     },
     "metadata": {},
     "output_type": "display_data"
    },
    {
     "name": "stdout",
     "output_type": "stream",
     "text": [
      "Epoch 17, train Loss: 7262.44485617004, valid Loss: 7907.678962476326, early_stop_count: 2\n"
     ]
    },
    {
     "data": {
      "application/vnd.jupyter.widget-view+json": {
       "model_id": "7febc721f65443909ec690efdd51aca6",
       "version_major": 2,
       "version_minor": 0
      },
      "text/plain": [
       "  0%|          | 0/298 [00:00<?, ?it/s]"
      ]
     },
     "metadata": {},
     "output_type": "display_data"
    },
    {
     "data": {
      "application/vnd.jupyter.widget-view+json": {
       "model_id": "62060863e97b47c4aaf462e728f6cf46",
       "version_major": 2,
       "version_minor": 0
      },
      "text/plain": [
       "  0%|          | 0/33 [00:00<?, ?it/s]"
      ]
     },
     "metadata": {},
     "output_type": "display_data"
    },
    {
     "name": "stdout",
     "output_type": "stream",
     "text": [
      "Epoch 18, train Loss: 7005.731147919725, valid Loss: 7847.844312263258, early_stop_count: 3\n"
     ]
    },
    {
     "data": {
      "application/vnd.jupyter.widget-view+json": {
       "model_id": "02daf3a36bd34d138d2b6ae1ed067952",
       "version_major": 2,
       "version_minor": 0
      },
      "text/plain": [
       "  0%|          | 0/298 [00:00<?, ?it/s]"
      ]
     },
     "metadata": {},
     "output_type": "display_data"
    },
    {
     "data": {
      "application/vnd.jupyter.widget-view+json": {
       "model_id": "42f1a35687b242179639a7fb2bdb11d6",
       "version_major": 2,
       "version_minor": 0
      },
      "text/plain": [
       "  0%|          | 0/33 [00:00<?, ?it/s]"
      ]
     },
     "metadata": {},
     "output_type": "display_data"
    },
    {
     "name": "stdout",
     "output_type": "stream",
     "text": [
      "Epoch 19, train Loss: 7209.792542732802, valid Loss: 7210.598396070076, early_stop_count: 0\n"
     ]
    },
    {
     "data": {
      "application/vnd.jupyter.widget-view+json": {
       "model_id": "f9cc1d782e1d45a08257c39abef867b7",
       "version_major": 2,
       "version_minor": 0
      },
      "text/plain": [
       "  0%|          | 0/298 [00:00<?, ?it/s]"
      ]
     },
     "metadata": {},
     "output_type": "display_data"
    },
    {
     "data": {
      "application/vnd.jupyter.widget-view+json": {
       "model_id": "0ee1dc7c8e4d4115a1dec40a60a63e34",
       "version_major": 2,
       "version_minor": 0
      },
      "text/plain": [
       "  0%|          | 0/33 [00:00<?, ?it/s]"
      ]
     },
     "metadata": {},
     "output_type": "display_data"
    },
    {
     "name": "stdout",
     "output_type": "stream",
     "text": [
      "Epoch 20, train Loss: 6930.713074959364, valid Loss: 7756.358916311553, early_stop_count: 1\n"
     ]
    },
    {
     "data": {
      "application/vnd.jupyter.widget-view+json": {
       "model_id": "2fd5e5618eab4ba380f81eaead244c88",
       "version_major": 2,
       "version_minor": 0
      },
      "text/plain": [
       "  0%|          | 0/298 [00:00<?, ?it/s]"
      ]
     },
     "metadata": {},
     "output_type": "display_data"
    },
    {
     "data": {
      "application/vnd.jupyter.widget-view+json": {
       "model_id": "cf0493cfcba446d187e1c09449401034",
       "version_major": 2,
       "version_minor": 0
      },
      "text/plain": [
       "  0%|          | 0/33 [00:00<?, ?it/s]"
      ]
     },
     "metadata": {},
     "output_type": "display_data"
    },
    {
     "name": "stdout",
     "output_type": "stream",
     "text": [
      "Epoch 21, train Loss: 6847.7257309472, valid Loss: 7556.087172999527, early_stop_count: 2\n"
     ]
    },
    {
     "data": {
      "application/vnd.jupyter.widget-view+json": {
       "model_id": "ab1f9f5eef2d45c3b689130f70ecae8a",
       "version_major": 2,
       "version_minor": 0
      },
      "text/plain": [
       "  0%|          | 0/298 [00:00<?, ?it/s]"
      ]
     },
     "metadata": {},
     "output_type": "display_data"
    },
    {
     "data": {
      "application/vnd.jupyter.widget-view+json": {
       "model_id": "7ffa85944ade4d61a9bf7ea1f443440e",
       "version_major": 2,
       "version_minor": 0
      },
      "text/plain": [
       "  0%|          | 0/33 [00:00<?, ?it/s]"
      ]
     },
     "metadata": {},
     "output_type": "display_data"
    },
    {
     "name": "stdout",
     "output_type": "stream",
     "text": [
      "Epoch 22, train Loss: 6736.0153792208475, valid Loss: 7496.858220880682, early_stop_count: 3\n"
     ]
    },
    {
     "data": {
      "application/vnd.jupyter.widget-view+json": {
       "model_id": "c0a1dccec40b48bc87e9c48bca8e4ded",
       "version_major": 2,
       "version_minor": 0
      },
      "text/plain": [
       "  0%|          | 0/298 [00:00<?, ?it/s]"
      ]
     },
     "metadata": {},
     "output_type": "display_data"
    },
    {
     "data": {
      "application/vnd.jupyter.widget-view+json": {
       "model_id": "5cef6a81617349318fab10519031e8fa",
       "version_major": 2,
       "version_minor": 0
      },
      "text/plain": [
       "  0%|          | 0/33 [00:00<?, ?it/s]"
      ]
     },
     "metadata": {},
     "output_type": "display_data"
    },
    {
     "name": "stdout",
     "output_type": "stream",
     "text": [
      "Epoch 23, train Loss: 6647.87353925257, valid Loss: 7462.796416311553, early_stop_count: 4\n"
     ]
    },
    {
     "data": {
      "application/vnd.jupyter.widget-view+json": {
       "model_id": "28b1ec750df44b9d915e3791d9e860a3",
       "version_major": 2,
       "version_minor": 0
      },
      "text/plain": [
       "  0%|          | 0/298 [00:00<?, ?it/s]"
      ]
     },
     "metadata": {},
     "output_type": "display_data"
    },
    {
     "data": {
      "application/vnd.jupyter.widget-view+json": {
       "model_id": "fabb4999f3604bda88a15eddf7ce6d25",
       "version_major": 2,
       "version_minor": 0
      },
      "text/plain": [
       "  0%|          | 0/33 [00:00<?, ?it/s]"
      ]
     },
     "metadata": {},
     "output_type": "display_data"
    },
    {
     "name": "stdout",
     "output_type": "stream",
     "text": [
      "Epoch 24, train Loss: 6561.27952299182, valid Loss: 7773.841767282197, early_stop_count: 5\n"
     ]
    },
    {
     "data": {
      "application/vnd.jupyter.widget-view+json": {
       "model_id": "a4de7d9740044180a6170bec0a971751",
       "version_major": 2,
       "version_minor": 0
      },
      "text/plain": [
       "  0%|          | 0/298 [00:00<?, ?it/s]"
      ]
     },
     "metadata": {},
     "output_type": "display_data"
    },
    {
     "data": {
      "application/vnd.jupyter.widget-view+json": {
       "model_id": "2865c244028145fabcee7c52f2c87d6e",
       "version_major": 2,
       "version_minor": 0
      },
      "text/plain": [
       "  0%|          | 0/33 [00:00<?, ?it/s]"
      ]
     },
     "metadata": {},
     "output_type": "display_data"
    },
    {
     "name": "stdout",
     "output_type": "stream",
     "text": [
      "Epoch 25, train Loss: 6514.314816878146, valid Loss: 7465.178784919508, early_stop_count: 6\n"
     ]
    },
    {
     "data": {
      "application/vnd.jupyter.widget-view+json": {
       "model_id": "3ce84b9a10804cd1ae37595e83a54f58",
       "version_major": 2,
       "version_minor": 0
      },
      "text/plain": [
       "  0%|          | 0/298 [00:00<?, ?it/s]"
      ]
     },
     "metadata": {},
     "output_type": "display_data"
    },
    {
     "data": {
      "application/vnd.jupyter.widget-view+json": {
       "model_id": "9d4ce3d3a69c439185b6a59770622fbd",
       "version_major": 2,
       "version_minor": 0
      },
      "text/plain": [
       "  0%|          | 0/33 [00:00<?, ?it/s]"
      ]
     },
     "metadata": {},
     "output_type": "display_data"
    },
    {
     "name": "stdout",
     "output_type": "stream",
     "text": [
      "Epoch 26, train Loss: 6474.684300774696, valid Loss: 7498.743045691288, early_stop_count: 7\n"
     ]
    },
    {
     "data": {
      "application/vnd.jupyter.widget-view+json": {
       "model_id": "dc794e3b2c0b4f39b91e4272e9cd7e37",
       "version_major": 2,
       "version_minor": 0
      },
      "text/plain": [
       "  0%|          | 0/298 [00:00<?, ?it/s]"
      ]
     },
     "metadata": {},
     "output_type": "display_data"
    },
    {
     "data": {
      "application/vnd.jupyter.widget-view+json": {
       "model_id": "dfc2e0a0ffaf4319bf2d6a995161e4bc",
       "version_major": 2,
       "version_minor": 0
      },
      "text/plain": [
       "  0%|          | 0/33 [00:00<?, ?it/s]"
      ]
     },
     "metadata": {},
     "output_type": "display_data"
    },
    {
     "name": "stdout",
     "output_type": "stream",
     "text": [
      "Epoch 27, train Loss: 6309.2032380584105, valid Loss: 7784.448183001894, early_stop_count: 8\n"
     ]
    },
    {
     "data": {
      "application/vnd.jupyter.widget-view+json": {
       "model_id": "07f761d3ef874b4e9b4ea0d4a1ea35e6",
       "version_major": 2,
       "version_minor": 0
      },
      "text/plain": [
       "  0%|          | 0/298 [00:00<?, ?it/s]"
      ]
     },
     "metadata": {},
     "output_type": "display_data"
    },
    {
     "data": {
      "application/vnd.jupyter.widget-view+json": {
       "model_id": "eebb134c5d7b4d699ded8f111c80df70",
       "version_major": 2,
       "version_minor": 0
      },
      "text/plain": [
       "  0%|          | 0/33 [00:00<?, ?it/s]"
      ]
     },
     "metadata": {},
     "output_type": "display_data"
    },
    {
     "name": "stdout",
     "output_type": "stream",
     "text": [
      "Epoch 28, train Loss: 6142.812062513108, valid Loss: 7759.889322916667, early_stop_count: 9\n"
     ]
    },
    {
     "data": {
      "application/vnd.jupyter.widget-view+json": {
       "model_id": "9c67bacb6aa94434a165635203a3df82",
       "version_major": 2,
       "version_minor": 0
      },
      "text/plain": [
       "  0%|          | 0/298 [00:00<?, ?it/s]"
      ]
     },
     "metadata": {},
     "output_type": "display_data"
    },
    {
     "data": {
      "application/vnd.jupyter.widget-view+json": {
       "model_id": "d15dcaf16ce74818bfe54f033a6cb881",
       "version_major": 2,
       "version_minor": 0
      },
      "text/plain": [
       "  0%|          | 0/33 [00:00<?, ?it/s]"
      ]
     },
     "metadata": {},
     "output_type": "display_data"
    },
    {
     "name": "stdout",
     "output_type": "stream",
     "text": [
      "Epoch 29, train Loss: 6131.713355966863, valid Loss: 7384.072916666667, early_stop_count: 10\n"
     ]
    }
   ],
   "source": [
    "num_epochs = _total_epochs  # 에포크 수\n",
    "early_stop_count = 0\n",
    "min_loss = float(\"inf\")\n",
    "\n",
    "for epoch in tqdm(range(num_epochs)):\n",
    "    train_loss = 0\n",
    "    valid_loss = 0\n",
    "    \n",
    "    for i, data in tqdm(enumerate(train_loader), total=len(train_loader)):  # train_loader는 훈련 데이터 로더\n",
    "        model.train()  # 훈련 모드 설정\n",
    "\n",
    "        inputs, labels, mixing_coefficients = data\n",
    "        inputs, labels, mixing_coefficients = inputs.to(device), labels.to(device), mixing_coefficients.to(device)\n",
    "        optimizer.zero_grad()  # 그래디언트 초기화\n",
    "\n",
    "        # 모델을 통해 입력 데이터에 대한 예측 수행\n",
    "        _, predictions = model(inputs)\n",
    "        \n",
    "        # 손실 계산\n",
    "        loss = loss_fn(predictions, labels, mixing_coefficients)\n",
    "        \n",
    "        # 역전파 수행\n",
    "        loss.backward()\n",
    "        \n",
    "        # 옵티마이저를 통한 파라미터 업데이트\n",
    "        optimizer.step()\n",
    "        \n",
    "        # 총 손실 계산\n",
    "        train_loss += loss.item()\n",
    "\n",
    "    with torch.no_grad():\n",
    "        for i, data in tqdm(enumerate(valid_loader), total=len(valid_loader)):  # train_loader는 훈련 데이터 로더\n",
    "            model.eval()  # 훈련 모드 설정\n",
    "\n",
    "            inputs, labels, mixing_coefficients = data\n",
    "            inputs, labels, mixing_coefficients = inputs.to(device), labels.to(device), mixing_coefficients.to(device)\n",
    "\n",
    "            # 모델을 통해 입력 데이터에 대한 예측 수행\n",
    "            _, predictions = model(inputs)\n",
    "        \n",
    "            # 손실 계산\n",
    "            loss = loss_fn(predictions, labels, mixing_coefficients)\n",
    "\n",
    "            # 총 손실 계산\n",
    "            valid_loss += loss.item()           \n",
    "\n",
    "    if min_loss > valid_loss:\n",
    "        min_loss = valid_loss\n",
    "        early_stop_count = 0\n",
    "\n",
    "        torch.save({\n",
    "        'model': model.state_dict(),\n",
    "        'optimizer': optimizer.state_dict(),\n",
    "        }, f'{model_path}/vgg16_{sampling_methods[0]}.pt')\n",
    "\n",
    "    else:\n",
    "        early_stop_count += 1\n",
    "\n",
    "    # 에포크별 손실 출력\n",
    "    print(f'Epoch {epoch + 1}, train Loss: {train_loss / len(train_loader)}, valid Loss: {valid_loss / len(valid_loader)}, early_stop_count: {early_stop_count}')\n",
    "\n",
    "    if early_stop_round <= early_stop_count:\n",
    "        break\n"
   ]
  },
  {
   "cell_type": "code",
   "execution_count": 14,
   "metadata": {},
   "outputs": [],
   "source": [
    "# model_path = './OOD/model'\n",
    "# sampling_methods = ['small_loss'] # 'small_loss', 'confidence', 'gmm'\n",
    "\n",
    "device = torch.device('cuda' if torch.cuda.is_available() else 'cpu')\n",
    "model = VGG16Base(pretrained=True, num_classes=_num_classes).to(device)\n",
    "\n",
    "# Optimizer and Loss\n",
    "optimizer = optim.Adam(model.parameters(), lr=_lr)\n",
    "\n",
    "checkpoint = torch.load(f'{model_path}/vgg16_{sampling_methods[0]}.pt')\n",
    "model.load_state_dict(checkpoint['model'])\n",
    "optimizer.load_state_dict(checkpoint['optimizer'])"
   ]
  },
  {
   "cell_type": "code",
   "execution_count": 15,
   "metadata": {},
   "outputs": [],
   "source": [
    "prototype_data = build(train_path, train_df, non_mix=True)\n",
    "prototype_loader = torch.utils.data.DataLoader(prototype_data,\n",
    "                                            batch_size=_batch_size,\n",
    "                                            shuffle=False,\n",
    "                                            drop_last=False,\n",
    "                                            num_workers=_num_worders)"
   ]
  },
  {
   "cell_type": "code",
   "execution_count": 16,
   "metadata": {},
   "outputs": [
    {
     "data": {
      "application/vnd.jupyter.widget-view+json": {
       "model_id": "8740d59dcd5b4d8bbbce48b3d2ddaa83",
       "version_major": 2,
       "version_minor": 0
      },
      "text/plain": [
       "  0%|          | 0/298 [00:00<?, ?it/s]"
      ]
     },
     "metadata": {},
     "output_type": "display_data"
    }
   ],
   "source": [
    "# 클래스별 특징을 저장할 딕셔너리 초기화\n",
    "inputs_per_class = {label: [] for label in range(_num_classes)}\n",
    "\n",
    "# 데이터 로더를 통해 이미지 배치 처리\n",
    "with torch.no_grad():\n",
    "    for i, (inputs, labels, _) in tqdm(enumerate(prototype_loader), total=len(prototype_loader)):\n",
    "        model.eval()  # 훈련 모드 설정\n",
    "        \n",
    "        inputs = inputs.to(device)\n",
    "        \n",
    "        for input_img, label in zip(inputs, labels):\n",
    "            index = torch.nonzero(label == 1)[0].item()\n",
    "            inputs_per_class[index].append(input_img.cpu().numpy())\n",
    "\n",
    "# 각 클래스별 평균 특징 계산\n",
    "class_prototypes = {label: np.mean(inputs, axis=0) for label, inputs in inputs_per_class.items()}"
   ]
  },
  {
   "cell_type": "code",
   "execution_count": 17,
   "metadata": {},
   "outputs": [],
   "source": [
    "test_data = build(test_path, test_df, non_mix=True)\n",
    "test_loader = torch.utils.data.DataLoader(test_data,\n",
    "                                        batch_size=1,\n",
    "                                        shuffle=False,\n",
    "                                        drop_last=False,\n",
    "                                        num_workers=_num_worders)"
   ]
  },
  {
   "cell_type": "code",
   "execution_count": 18,
   "metadata": {},
   "outputs": [
    {
     "data": {
      "application/vnd.jupyter.widget-view+json": {
       "model_id": "cc062dd390c046efb11f41691056e1a6",
       "version_major": 2,
       "version_minor": 0
      },
      "text/plain": [
       "  0%|          | 0/20270 [00:00<?, ?it/s]"
      ]
     },
     "metadata": {},
     "output_type": "display_data"
    }
   ],
   "source": [
    "# 데이터 로더를 통해 이미지 배치 처리\n",
    "alpha = 0.1\n",
    "k = 5\n",
    "maximum_score_dict = {idx: [] for idx in range(len(test_loader))}\n",
    "\n",
    "with torch.no_grad():\n",
    "    for i, (querys, _, _) in tqdm(enumerate(test_loader), total=len(test_loader)):\n",
    "        model.eval()  # 훈련 모드 설정\n",
    "        inputs = torch.cat([querys, querys, querys], dim = 2)\n",
    "\n",
    "        inputs = inputs.to(device)\n",
    "        _, predictions= model(inputs)\n",
    "        _, topk_classes = torch.topk(predictions, k, dim = 1)\n",
    "\n",
    "        topk_classes = topk_classes.cpu().numpy()[0]\n",
    "        \n",
    "        for class_num in topk_classes:\n",
    "            prototype_exemplar = torch.tensor(class_prototypes[class_num]).unsqueeze(0)\n",
    "            interpolated_points = (1 - alpha) * torch.tensor(querys.numpy()) + alpha * torch.tensor(class_prototypes[class_num])\n",
    "\n",
    "            test_inputs = torch.cat([querys, prototype_exemplar, interpolated_points], dim = 2)\n",
    "\n",
    "            test_inputs = test_inputs.to(device)\n",
    "            _, membership_predictions= model(test_inputs)\n",
    "\n",
    "            topk_membership = membership_predictions[:, topk_classes]\n",
    "\n",
    "            membership_value, membership_class = torch.topk(topk_membership, 1, dim = 1)\n",
    "\n",
    "            maximum_score_dict[i].append(membership_value.cpu().numpy()[0][0])\n",
    "\n",
    "membership_score_dict = {idx: np.mean(inputs, axis=0) for idx, inputs in maximum_score_dict.items()}"
   ]
  },
  {
   "cell_type": "code",
   "execution_count": 20,
   "metadata": {},
   "outputs": [
    {
     "data": {
      "text/html": [
       "<div>\n",
       "<style scoped>\n",
       "    .dataframe tbody tr th:only-of-type {\n",
       "        vertical-align: middle;\n",
       "    }\n",
       "\n",
       "    .dataframe tbody tr th {\n",
       "        vertical-align: top;\n",
       "    }\n",
       "\n",
       "    .dataframe thead th {\n",
       "        text-align: right;\n",
       "    }\n",
       "</style>\n",
       "<table border=\"1\" class=\"dataframe\">\n",
       "  <thead>\n",
       "    <tr style=\"text-align: right;\">\n",
       "      <th></th>\n",
       "      <th>gmm_score</th>\n",
       "    </tr>\n",
       "  </thead>\n",
       "  <tbody>\n",
       "    <tr>\n",
       "      <th>0</th>\n",
       "      <td>0.829301</td>\n",
       "    </tr>\n",
       "    <tr>\n",
       "      <th>1</th>\n",
       "      <td>0.664841</td>\n",
       "    </tr>\n",
       "    <tr>\n",
       "      <th>2</th>\n",
       "      <td>0.625168</td>\n",
       "    </tr>\n",
       "    <tr>\n",
       "      <th>3</th>\n",
       "      <td>0.793164</td>\n",
       "    </tr>\n",
       "    <tr>\n",
       "      <th>4</th>\n",
       "      <td>0.633296</td>\n",
       "    </tr>\n",
       "    <tr>\n",
       "      <th>...</th>\n",
       "      <td>...</td>\n",
       "    </tr>\n",
       "    <tr>\n",
       "      <th>20265</th>\n",
       "      <td>0.649919</td>\n",
       "    </tr>\n",
       "    <tr>\n",
       "      <th>20266</th>\n",
       "      <td>0.746662</td>\n",
       "    </tr>\n",
       "    <tr>\n",
       "      <th>20267</th>\n",
       "      <td>0.646048</td>\n",
       "    </tr>\n",
       "    <tr>\n",
       "      <th>20268</th>\n",
       "      <td>0.539803</td>\n",
       "    </tr>\n",
       "    <tr>\n",
       "      <th>20269</th>\n",
       "      <td>0.727425</td>\n",
       "    </tr>\n",
       "  </tbody>\n",
       "</table>\n",
       "<p>20270 rows × 1 columns</p>\n",
       "</div>"
      ],
      "text/plain": [
       "       gmm_score\n",
       "0       0.829301\n",
       "1       0.664841\n",
       "2       0.625168\n",
       "3       0.793164\n",
       "4       0.633296\n",
       "...          ...\n",
       "20265   0.649919\n",
       "20266   0.746662\n",
       "20267   0.646048\n",
       "20268   0.539803\n",
       "20269   0.727425\n",
       "\n",
       "[20270 rows x 1 columns]"
      ]
     },
     "execution_count": 20,
     "metadata": {},
     "output_type": "execute_result"
    }
   ],
   "source": [
    "membership_df = pd.DataFrame.from_dict(membership_score_dict, orient='index')\n",
    "membership_df.columns = [f'{sampling_methods[0]}_score']\n",
    "\n",
    "membership_df"
   ]
  },
  {
   "cell_type": "code",
   "execution_count": 21,
   "metadata": {},
   "outputs": [],
   "source": [
    "score_df = pd.concat([test_df, membership_df], axis = 1)"
   ]
  },
  {
   "cell_type": "code",
   "execution_count": 22,
   "metadata": {},
   "outputs": [],
   "source": [
    "score_df.to_csv(f'./OOD/noise_OOD_{sampling_methods[0]}.csv', index= False)"
   ]
  },
  {
   "cell_type": "code",
   "execution_count": 23,
   "metadata": {},
   "outputs": [
    {
     "data": {
      "text/html": [
       "<div>\n",
       "<style scoped>\n",
       "    .dataframe tbody tr th:only-of-type {\n",
       "        vertical-align: middle;\n",
       "    }\n",
       "\n",
       "    .dataframe tbody tr th {\n",
       "        vertical-align: top;\n",
       "    }\n",
       "\n",
       "    .dataframe thead th {\n",
       "        text-align: right;\n",
       "    }\n",
       "</style>\n",
       "<table border=\"1\" class=\"dataframe\">\n",
       "  <thead>\n",
       "    <tr style=\"text-align: right;\">\n",
       "      <th></th>\n",
       "      <th>small_loss_estimate_clean</th>\n",
       "      <th>confidence_estimate_clean</th>\n",
       "      <th>gmm_estimate_clean</th>\n",
       "      <th>Image Name</th>\n",
       "      <th>Label</th>\n",
       "      <th>gmm_score</th>\n",
       "    </tr>\n",
       "  </thead>\n",
       "  <tbody>\n",
       "    <tr>\n",
       "      <th>0</th>\n",
       "      <td>0</td>\n",
       "      <td>0</td>\n",
       "      <td>0</td>\n",
       "      <td>img_37cdf731-ae5b-4dcb-8c7b-d595e7324fb0.jpg</td>\n",
       "      <td>4</td>\n",
       "      <td>0.829301</td>\n",
       "    </tr>\n",
       "    <tr>\n",
       "      <th>1</th>\n",
       "      <td>1</td>\n",
       "      <td>0</td>\n",
       "      <td>0</td>\n",
       "      <td>img_6ddd443c-3e96-4f29-a04a-245b091d7bd2.jpg</td>\n",
       "      <td>1</td>\n",
       "      <td>0.664840</td>\n",
       "    </tr>\n",
       "    <tr>\n",
       "      <th>2</th>\n",
       "      <td>0</td>\n",
       "      <td>0</td>\n",
       "      <td>0</td>\n",
       "      <td>img_45389146-1ade-4678-a635-6b76f7a22ad7.jpg</td>\n",
       "      <td>0</td>\n",
       "      <td>0.625168</td>\n",
       "    </tr>\n",
       "    <tr>\n",
       "      <th>3</th>\n",
       "      <td>0</td>\n",
       "      <td>1</td>\n",
       "      <td>0</td>\n",
       "      <td>img_52c783df-5462-4225-aa96-c7b7d111706c.jpg</td>\n",
       "      <td>4</td>\n",
       "      <td>0.793164</td>\n",
       "    </tr>\n",
       "    <tr>\n",
       "      <th>4</th>\n",
       "      <td>0</td>\n",
       "      <td>1</td>\n",
       "      <td>0</td>\n",
       "      <td>img_bdc86691-4bbe-4030-b39d-b8ff4c7445e5.jpg</td>\n",
       "      <td>9</td>\n",
       "      <td>0.633296</td>\n",
       "    </tr>\n",
       "    <tr>\n",
       "      <th>...</th>\n",
       "      <td>...</td>\n",
       "      <td>...</td>\n",
       "      <td>...</td>\n",
       "      <td>...</td>\n",
       "      <td>...</td>\n",
       "      <td>...</td>\n",
       "    </tr>\n",
       "    <tr>\n",
       "      <th>20265</th>\n",
       "      <td>0</td>\n",
       "      <td>0</td>\n",
       "      <td>0</td>\n",
       "      <td>img_e617ac12-87cb-48ae-b5da-36ab3256c7e1.jpg</td>\n",
       "      <td>0</td>\n",
       "      <td>0.649919</td>\n",
       "    </tr>\n",
       "    <tr>\n",
       "      <th>20266</th>\n",
       "      <td>1</td>\n",
       "      <td>0</td>\n",
       "      <td>0</td>\n",
       "      <td>img_0767b136-5057-4bde-9000-e6da05990f00.jpg</td>\n",
       "      <td>1</td>\n",
       "      <td>0.746662</td>\n",
       "    </tr>\n",
       "    <tr>\n",
       "      <th>20267</th>\n",
       "      <td>1</td>\n",
       "      <td>0</td>\n",
       "      <td>0</td>\n",
       "      <td>img_188eabbb-7c41-44b9-81d7-a4207a2580eb.jpg</td>\n",
       "      <td>9</td>\n",
       "      <td>0.646048</td>\n",
       "    </tr>\n",
       "    <tr>\n",
       "      <th>20268</th>\n",
       "      <td>0</td>\n",
       "      <td>0</td>\n",
       "      <td>0</td>\n",
       "      <td>img_d7fa315d-1348-4cc9-93b4-d0afe4d61d57.jpg</td>\n",
       "      <td>0</td>\n",
       "      <td>0.539803</td>\n",
       "    </tr>\n",
       "    <tr>\n",
       "      <th>20269</th>\n",
       "      <td>0</td>\n",
       "      <td>0</td>\n",
       "      <td>0</td>\n",
       "      <td>img_159a3826-e7c1-40c3-ae69-97d43b0f7188.jpg</td>\n",
       "      <td>8</td>\n",
       "      <td>0.727425</td>\n",
       "    </tr>\n",
       "  </tbody>\n",
       "</table>\n",
       "<p>20270 rows × 6 columns</p>\n",
       "</div>"
      ],
      "text/plain": [
       "       small_loss_estimate_clean  confidence_estimate_clean  \\\n",
       "0                              0                          0   \n",
       "1                              1                          0   \n",
       "2                              0                          0   \n",
       "3                              0                          1   \n",
       "4                              0                          1   \n",
       "...                          ...                        ...   \n",
       "20265                          0                          0   \n",
       "20266                          1                          0   \n",
       "20267                          1                          0   \n",
       "20268                          0                          0   \n",
       "20269                          0                          0   \n",
       "\n",
       "       gmm_estimate_clean                                    Image Name  \\\n",
       "0                       0  img_37cdf731-ae5b-4dcb-8c7b-d595e7324fb0.jpg   \n",
       "1                       0  img_6ddd443c-3e96-4f29-a04a-245b091d7bd2.jpg   \n",
       "2                       0  img_45389146-1ade-4678-a635-6b76f7a22ad7.jpg   \n",
       "3                       0  img_52c783df-5462-4225-aa96-c7b7d111706c.jpg   \n",
       "4                       0  img_bdc86691-4bbe-4030-b39d-b8ff4c7445e5.jpg   \n",
       "...                   ...                                           ...   \n",
       "20265                   0  img_e617ac12-87cb-48ae-b5da-36ab3256c7e1.jpg   \n",
       "20266                   0  img_0767b136-5057-4bde-9000-e6da05990f00.jpg   \n",
       "20267                   0  img_188eabbb-7c41-44b9-81d7-a4207a2580eb.jpg   \n",
       "20268                   0  img_d7fa315d-1348-4cc9-93b4-d0afe4d61d57.jpg   \n",
       "20269                   0  img_159a3826-e7c1-40c3-ae69-97d43b0f7188.jpg   \n",
       "\n",
       "       Label  gmm_score  \n",
       "0          4   0.829301  \n",
       "1          1   0.664840  \n",
       "2          0   0.625168  \n",
       "3          4   0.793164  \n",
       "4          9   0.633296  \n",
       "...      ...        ...  \n",
       "20265      0   0.649919  \n",
       "20266      1   0.746662  \n",
       "20267      9   0.646048  \n",
       "20268      0   0.539803  \n",
       "20269      8   0.727425  \n",
       "\n",
       "[20270 rows x 6 columns]"
      ]
     },
     "execution_count": 23,
     "metadata": {},
     "output_type": "execute_result"
    }
   ],
   "source": [
    "score_df = pd.read_csv(f'./OOD/noise_OOD_{sampling_methods[0]}.csv')\n",
    "score_df"
   ]
  },
  {
   "cell_type": "code",
   "execution_count": 24,
   "metadata": {},
   "outputs": [
    {
     "data": {
      "text/html": [
       "<div>\n",
       "<style scoped>\n",
       "    .dataframe tbody tr th:only-of-type {\n",
       "        vertical-align: middle;\n",
       "    }\n",
       "\n",
       "    .dataframe tbody tr th {\n",
       "        vertical-align: top;\n",
       "    }\n",
       "\n",
       "    .dataframe thead th {\n",
       "        text-align: right;\n",
       "    }\n",
       "</style>\n",
       "<table border=\"1\" class=\"dataframe\">\n",
       "  <thead>\n",
       "    <tr style=\"text-align: right;\">\n",
       "      <th></th>\n",
       "      <th>small_loss_estimate_clean</th>\n",
       "      <th>confidence_estimate_clean</th>\n",
       "      <th>gmm_estimate_clean</th>\n",
       "      <th>Label</th>\n",
       "      <th>gmm_score</th>\n",
       "    </tr>\n",
       "  </thead>\n",
       "  <tbody>\n",
       "    <tr>\n",
       "      <th>count</th>\n",
       "      <td>20270.000000</td>\n",
       "      <td>20270.000000</td>\n",
       "      <td>20270.0</td>\n",
       "      <td>20270.000000</td>\n",
       "      <td>20270.000000</td>\n",
       "    </tr>\n",
       "    <tr>\n",
       "      <th>mean</th>\n",
       "      <td>0.296547</td>\n",
       "      <td>0.273409</td>\n",
       "      <td>0.0</td>\n",
       "      <td>4.221263</td>\n",
       "      <td>0.717891</td>\n",
       "    </tr>\n",
       "    <tr>\n",
       "      <th>std</th>\n",
       "      <td>0.456746</td>\n",
       "      <td>0.445720</td>\n",
       "      <td>0.0</td>\n",
       "      <td>2.772071</td>\n",
       "      <td>0.087348</td>\n",
       "    </tr>\n",
       "    <tr>\n",
       "      <th>min</th>\n",
       "      <td>0.000000</td>\n",
       "      <td>0.000000</td>\n",
       "      <td>0.0</td>\n",
       "      <td>0.000000</td>\n",
       "      <td>0.489951</td>\n",
       "    </tr>\n",
       "    <tr>\n",
       "      <th>25%</th>\n",
       "      <td>0.000000</td>\n",
       "      <td>0.000000</td>\n",
       "      <td>0.0</td>\n",
       "      <td>2.000000</td>\n",
       "      <td>0.647718</td>\n",
       "    </tr>\n",
       "    <tr>\n",
       "      <th>50%</th>\n",
       "      <td>0.000000</td>\n",
       "      <td>0.000000</td>\n",
       "      <td>0.0</td>\n",
       "      <td>4.000000</td>\n",
       "      <td>0.719038</td>\n",
       "    </tr>\n",
       "    <tr>\n",
       "      <th>75%</th>\n",
       "      <td>1.000000</td>\n",
       "      <td>1.000000</td>\n",
       "      <td>0.0</td>\n",
       "      <td>7.000000</td>\n",
       "      <td>0.785701</td>\n",
       "    </tr>\n",
       "    <tr>\n",
       "      <th>max</th>\n",
       "      <td>1.000000</td>\n",
       "      <td>1.000000</td>\n",
       "      <td>0.0</td>\n",
       "      <td>9.000000</td>\n",
       "      <td>0.960179</td>\n",
       "    </tr>\n",
       "  </tbody>\n",
       "</table>\n",
       "</div>"
      ],
      "text/plain": [
       "       small_loss_estimate_clean  confidence_estimate_clean  \\\n",
       "count               20270.000000               20270.000000   \n",
       "mean                    0.296547                   0.273409   \n",
       "std                     0.456746                   0.445720   \n",
       "min                     0.000000                   0.000000   \n",
       "25%                     0.000000                   0.000000   \n",
       "50%                     0.000000                   0.000000   \n",
       "75%                     1.000000                   1.000000   \n",
       "max                     1.000000                   1.000000   \n",
       "\n",
       "       gmm_estimate_clean         Label     gmm_score  \n",
       "count             20270.0  20270.000000  20270.000000  \n",
       "mean                  0.0      4.221263      0.717891  \n",
       "std                   0.0      2.772071      0.087348  \n",
       "min                   0.0      0.000000      0.489951  \n",
       "25%                   0.0      2.000000      0.647718  \n",
       "50%                   0.0      4.000000      0.719038  \n",
       "75%                   0.0      7.000000      0.785701  \n",
       "max                   0.0      9.000000      0.960179  "
      ]
     },
     "execution_count": 24,
     "metadata": {},
     "output_type": "execute_result"
    }
   ],
   "source": [
    "score_df.describe()"
   ]
  },
  {
   "cell_type": "code",
   "execution_count": 28,
   "metadata": {},
   "outputs": [
    {
     "data": {
      "text/html": [
       "<div>\n",
       "<style scoped>\n",
       "    .dataframe tbody tr th:only-of-type {\n",
       "        vertical-align: middle;\n",
       "    }\n",
       "\n",
       "    .dataframe tbody tr th {\n",
       "        vertical-align: top;\n",
       "    }\n",
       "\n",
       "    .dataframe thead th {\n",
       "        text-align: right;\n",
       "    }\n",
       "</style>\n",
       "<table border=\"1\" class=\"dataframe\">\n",
       "  <thead>\n",
       "    <tr style=\"text-align: right;\">\n",
       "      <th></th>\n",
       "      <th>small_loss_estimate_clean</th>\n",
       "      <th>confidence_estimate_clean</th>\n",
       "      <th>gmm_estimate_clean</th>\n",
       "      <th>Image Name</th>\n",
       "      <th>Label</th>\n",
       "      <th>gmm_score</th>\n",
       "    </tr>\n",
       "  </thead>\n",
       "  <tbody>\n",
       "    <tr>\n",
       "      <th>18114</th>\n",
       "      <td>0</td>\n",
       "      <td>0</td>\n",
       "      <td>0</td>\n",
       "      <td>img_1af526ab-3cb4-49c6-a661-2a64eeebeb47.jpg</td>\n",
       "      <td>8</td>\n",
       "      <td>0.489951</td>\n",
       "    </tr>\n",
       "  </tbody>\n",
       "</table>\n",
       "</div>"
      ],
      "text/plain": [
       "       small_loss_estimate_clean  confidence_estimate_clean  \\\n",
       "18114                          0                          0   \n",
       "\n",
       "       gmm_estimate_clean                                    Image Name  \\\n",
       "18114                   0  img_1af526ab-3cb4-49c6-a661-2a64eeebeb47.jpg   \n",
       "\n",
       "       Label  gmm_score  \n",
       "18114      8   0.489951  "
      ]
     },
     "execution_count": 28,
     "metadata": {},
     "output_type": "execute_result"
    }
   ],
   "source": [
    "score_df[score_df[f'{sampling_methods[0]}_score'] == score_df[f'{sampling_methods[0]}_score'].min()]"
   ]
  },
  {
   "cell_type": "code",
   "execution_count": 29,
   "metadata": {},
   "outputs": [],
   "source": [
    "min_idx = score_df[score_df[f'{sampling_methods[0]}_score'] == score_df[f'{sampling_methods[0]}_score'].min()].index[0]\n",
    "max_idx = score_df[score_df[f'{sampling_methods[0]}_score'] == score_df[f'{sampling_methods[0]}_score'].max()].index[0]"
   ]
  },
  {
   "cell_type": "code",
   "execution_count": 30,
   "metadata": {},
   "outputs": [
    {
     "data": {
      "text/plain": [
       "<matplotlib.image.AxesImage at 0x19da58b0c40>"
      ]
     },
     "execution_count": 30,
     "metadata": {},
     "output_type": "execute_result"
    },
    {
     "data": {
      "image/png": "[encoded data removed]",
      "text/plain": [
       "<Figure size 640x480 with 1 Axes>"
      ]
     },
     "metadata": {},
     "output_type": "display_data"
    }
   ],
   "source": [
    "image_path = os.path.join(test_path, 'imgs', clean_noise_df.loc[min_idx, 'Image Name'])\n",
    "# xj_image_path = os.path.join(data_path, 'imgs', clean_noise_df.loc[xj_idx, 'Image Name'])\n",
    "\n",
    "# # load image\n",
    "img = Image.open(image_path).convert('RGB')\n",
    "# xj_img = Image.open(xj_image_path).convert('RGB')\n",
    "\n",
    "plt.imshow(img)"
   ]
  },
  {
   "cell_type": "code",
   "execution_count": null,
   "metadata": {},
   "outputs": [],
   "source": []
  },
  {
   "cell_type": "code",
   "execution_count": null,
   "metadata": {},
   "outputs": [],
   "source": []
  }
 ],
 "metadata": {
  "kernelspec": {
   "display_name": "ds801",
   "language": "python",
   "name": "ds801"
  },
  "language_info": {
   "codemirror_mode": {
    "name": "ipython",
    "version": 3
   },
   "file_extension": ".py",
   "mimetype": "text/x-python",
   "name": "python",
   "nbconvert_exporter": "python",
   "pygments_lexer": "ipython3",
   "version": "3.9.19"
  }
 },
 "nbformat": 4,
 "nbformat_minor": 2
}
